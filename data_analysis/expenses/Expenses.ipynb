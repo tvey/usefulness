{
 "cells": [
  {
   "cell_type": "code",
   "execution_count": 1,
   "id": "16663f4e",
   "metadata": {},
   "outputs": [],
   "source": [
    "import pandas as pd"
   ]
  },
  {
   "cell_type": "code",
   "execution_count": 2,
   "id": "5692d012",
   "metadata": {
    "scrolled": true
   },
   "outputs": [],
   "source": [
    "expenses = pd.read_csv('expenses.csv', delimiter = ',')"
   ]
  },
  {
   "cell_type": "markdown",
   "id": "c6601bda",
   "metadata": {},
   "source": [
    "Convert string values of \"amount\" to integers, just in case"
   ]
  },
  {
   "cell_type": "code",
   "execution_count": 3,
   "id": "f25bffe3",
   "metadata": {},
   "outputs": [],
   "source": [
    "expenses['amount'] = expenses['amount'].astype(int)"
   ]
  },
  {
   "cell_type": "code",
   "execution_count": 4,
   "id": "815d46f5",
   "metadata": {},
   "outputs": [
    {
     "data": {
      "text/html": [
       "<div>\n",
       "<style scoped>\n",
       "    .dataframe tbody tr th:only-of-type {\n",
       "        vertical-align: middle;\n",
       "    }\n",
       "\n",
       "    .dataframe tbody tr th {\n",
       "        vertical-align: top;\n",
       "    }\n",
       "\n",
       "    .dataframe thead th {\n",
       "        text-align: right;\n",
       "    }\n",
       "</style>\n",
       "<table border=\"1\" class=\"dataframe\">\n",
       "  <thead>\n",
       "    <tr style=\"text-align: right;\">\n",
       "      <th></th>\n",
       "      <th>date</th>\n",
       "      <th>category</th>\n",
       "      <th>description</th>\n",
       "      <th>amount</th>\n",
       "    </tr>\n",
       "  </thead>\n",
       "  <tbody>\n",
       "    <tr>\n",
       "      <th>1333</th>\n",
       "      <td>2020-12-30</td>\n",
       "      <td>household</td>\n",
       "      <td>toothpaste</td>\n",
       "      <td>200</td>\n",
       "    </tr>\n",
       "    <tr>\n",
       "      <th>1334</th>\n",
       "      <td>2020-12-31</td>\n",
       "      <td>junk</td>\n",
       "      <td>white chocolate</td>\n",
       "      <td>100</td>\n",
       "    </tr>\n",
       "    <tr>\n",
       "      <th>1335</th>\n",
       "      <td>2020-12-31</td>\n",
       "      <td>household</td>\n",
       "      <td>shampoo</td>\n",
       "      <td>200</td>\n",
       "    </tr>\n",
       "    <tr>\n",
       "      <th>1336</th>\n",
       "      <td>2020-12-31</td>\n",
       "      <td>junk</td>\n",
       "      <td>chocolate</td>\n",
       "      <td>120</td>\n",
       "    </tr>\n",
       "    <tr>\n",
       "      <th>1337</th>\n",
       "      <td>2020-12-31</td>\n",
       "      <td>food</td>\n",
       "      <td>potatoes</td>\n",
       "      <td>60</td>\n",
       "    </tr>\n",
       "  </tbody>\n",
       "</table>\n",
       "</div>"
      ],
      "text/plain": [
       "            date   category      description  amount\n",
       "1333  2020-12-30  household       toothpaste     200\n",
       "1334  2020-12-31       junk  white chocolate     100\n",
       "1335  2020-12-31  household          shampoo     200\n",
       "1336  2020-12-31       junk        chocolate     120\n",
       "1337  2020-12-31       food         potatoes      60"
      ]
     },
     "execution_count": 4,
     "metadata": {},
     "output_type": "execute_result"
    }
   ],
   "source": [
    "expenses.tail()"
   ]
  },
  {
   "cell_type": "code",
   "execution_count": 5,
   "id": "aba9061f",
   "metadata": {},
   "outputs": [
    {
     "data": {
      "text/plain": [
       "'Total expenses: 947,840₽'"
      ]
     },
     "execution_count": 5,
     "metadata": {},
     "output_type": "execute_result"
    }
   ],
   "source": [
    "total_expenses = expenses['amount'].sum()\n",
    "f'Total expenses: {total_expenses:,}₽'"
   ]
  },
  {
   "cell_type": "markdown",
   "id": "efa64c95",
   "metadata": {},
   "source": [
    "Expenses each month"
   ]
  },
  {
   "cell_type": "code",
   "execution_count": 6,
   "id": "29f556ff",
   "metadata": {},
   "outputs": [
    {
     "data": {
      "text/html": [
       "<div>\n",
       "<style scoped>\n",
       "    .dataframe tbody tr th:only-of-type {\n",
       "        vertical-align: middle;\n",
       "    }\n",
       "\n",
       "    .dataframe tbody tr th {\n",
       "        vertical-align: top;\n",
       "    }\n",
       "\n",
       "    .dataframe thead th {\n",
       "        text-align: right;\n",
       "    }\n",
       "</style>\n",
       "<table border=\"1\" class=\"dataframe\">\n",
       "  <thead>\n",
       "    <tr style=\"text-align: right;\">\n",
       "      <th></th>\n",
       "      <th>amount</th>\n",
       "    </tr>\n",
       "    <tr>\n",
       "      <th>date</th>\n",
       "      <th></th>\n",
       "    </tr>\n",
       "  </thead>\n",
       "  <tbody>\n",
       "    <tr>\n",
       "      <th>2020-01-31</th>\n",
       "      <td>71470</td>\n",
       "    </tr>\n",
       "    <tr>\n",
       "      <th>2020-02-29</th>\n",
       "      <td>75900</td>\n",
       "    </tr>\n",
       "    <tr>\n",
       "      <th>2020-03-31</th>\n",
       "      <td>82500</td>\n",
       "    </tr>\n",
       "    <tr>\n",
       "      <th>2020-04-30</th>\n",
       "      <td>78530</td>\n",
       "    </tr>\n",
       "    <tr>\n",
       "      <th>2020-05-31</th>\n",
       "      <td>90100</td>\n",
       "    </tr>\n",
       "    <tr>\n",
       "      <th>2020-06-30</th>\n",
       "      <td>81220</td>\n",
       "    </tr>\n",
       "    <tr>\n",
       "      <th>2020-07-31</th>\n",
       "      <td>69120</td>\n",
       "    </tr>\n",
       "    <tr>\n",
       "      <th>2020-08-31</th>\n",
       "      <td>86040</td>\n",
       "    </tr>\n",
       "    <tr>\n",
       "      <th>2020-09-30</th>\n",
       "      <td>85870</td>\n",
       "    </tr>\n",
       "    <tr>\n",
       "      <th>2020-10-31</th>\n",
       "      <td>78210</td>\n",
       "    </tr>\n",
       "    <tr>\n",
       "      <th>2020-11-30</th>\n",
       "      <td>77040</td>\n",
       "    </tr>\n",
       "    <tr>\n",
       "      <th>2020-12-31</th>\n",
       "      <td>71840</td>\n",
       "    </tr>\n",
       "  </tbody>\n",
       "</table>\n",
       "</div>"
      ],
      "text/plain": [
       "            amount\n",
       "date              \n",
       "2020-01-31   71470\n",
       "2020-02-29   75900\n",
       "2020-03-31   82500\n",
       "2020-04-30   78530\n",
       "2020-05-31   90100\n",
       "2020-06-30   81220\n",
       "2020-07-31   69120\n",
       "2020-08-31   86040\n",
       "2020-09-30   85870\n",
       "2020-10-31   78210\n",
       "2020-11-30   77040\n",
       "2020-12-31   71840"
      ]
     },
     "execution_count": 6,
     "metadata": {},
     "output_type": "execute_result"
    }
   ],
   "source": [
    "expenses['date'] = pd.to_datetime(expenses['date'])\n",
    "expenses.groupby(pd.Grouper(key='date', freq='M')).sum()"
   ]
  },
  {
   "cell_type": "markdown",
   "id": "b8c28776",
   "metadata": {},
   "source": [
    "Expenses for each category over the whole period"
   ]
  },
  {
   "cell_type": "code",
   "execution_count": 7,
   "id": "6c4ba49a",
   "metadata": {},
   "outputs": [
    {
     "data": {
      "text/html": [
       "<div>\n",
       "<style scoped>\n",
       "    .dataframe tbody tr th:only-of-type {\n",
       "        vertical-align: middle;\n",
       "    }\n",
       "\n",
       "    .dataframe tbody tr th {\n",
       "        vertical-align: top;\n",
       "    }\n",
       "\n",
       "    .dataframe thead th {\n",
       "        text-align: right;\n",
       "    }\n",
       "</style>\n",
       "<table border=\"1\" class=\"dataframe\">\n",
       "  <thead>\n",
       "    <tr style=\"text-align: right;\">\n",
       "      <th></th>\n",
       "      <th>amount</th>\n",
       "    </tr>\n",
       "    <tr>\n",
       "      <th>category</th>\n",
       "      <th></th>\n",
       "    </tr>\n",
       "  </thead>\n",
       "  <tbody>\n",
       "    <tr>\n",
       "      <th>bills</th>\n",
       "      <td>570000</td>\n",
       "    </tr>\n",
       "    <tr>\n",
       "      <th>clothing</th>\n",
       "      <td>150000</td>\n",
       "    </tr>\n",
       "    <tr>\n",
       "      <th>health</th>\n",
       "      <td>81000</td>\n",
       "    </tr>\n",
       "    <tr>\n",
       "      <th>food</th>\n",
       "      <td>76790</td>\n",
       "    </tr>\n",
       "    <tr>\n",
       "      <th>household</th>\n",
       "      <td>40490</td>\n",
       "    </tr>\n",
       "    <tr>\n",
       "      <th>junk</th>\n",
       "      <td>29560</td>\n",
       "    </tr>\n",
       "  </tbody>\n",
       "</table>\n",
       "</div>"
      ],
      "text/plain": [
       "           amount\n",
       "category         \n",
       "bills      570000\n",
       "clothing   150000\n",
       "health      81000\n",
       "food        76790\n",
       "household   40490\n",
       "junk        29560"
      ]
     },
     "execution_count": 7,
     "metadata": {},
     "output_type": "execute_result"
    }
   ],
   "source": [
    "by_category = expenses.groupby(['category']).sum()\n",
    "by_category.sort_values(by='amount', ascending=False)"
   ]
  },
  {
   "cell_type": "markdown",
   "id": "132bbec4",
   "metadata": {},
   "source": [
    "Extract \"Junk\" category items as a separate dataframe"
   ]
  },
  {
   "cell_type": "code",
   "execution_count": 8,
   "id": "7d216864",
   "metadata": {
    "scrolled": true
   },
   "outputs": [
    {
     "data": {
      "text/html": [
       "<div>\n",
       "<style scoped>\n",
       "    .dataframe tbody tr th:only-of-type {\n",
       "        vertical-align: middle;\n",
       "    }\n",
       "\n",
       "    .dataframe tbody tr th {\n",
       "        vertical-align: top;\n",
       "    }\n",
       "\n",
       "    .dataframe thead th {\n",
       "        text-align: right;\n",
       "    }\n",
       "</style>\n",
       "<table border=\"1\" class=\"dataframe\">\n",
       "  <thead>\n",
       "    <tr style=\"text-align: right;\">\n",
       "      <th></th>\n",
       "      <th>date</th>\n",
       "      <th>category</th>\n",
       "      <th>description</th>\n",
       "      <th>amount</th>\n",
       "    </tr>\n",
       "  </thead>\n",
       "  <tbody>\n",
       "    <tr>\n",
       "      <th>1326</th>\n",
       "      <td>2020-12-29</td>\n",
       "      <td>junk</td>\n",
       "      <td>latte</td>\n",
       "      <td>110</td>\n",
       "    </tr>\n",
       "    <tr>\n",
       "      <th>1331</th>\n",
       "      <td>2020-12-30</td>\n",
       "      <td>junk</td>\n",
       "      <td>coffee</td>\n",
       "      <td>110</td>\n",
       "    </tr>\n",
       "    <tr>\n",
       "      <th>1332</th>\n",
       "      <td>2020-12-30</td>\n",
       "      <td>junk</td>\n",
       "      <td>bepis</td>\n",
       "      <td>60</td>\n",
       "    </tr>\n",
       "    <tr>\n",
       "      <th>1334</th>\n",
       "      <td>2020-12-31</td>\n",
       "      <td>junk</td>\n",
       "      <td>white chocolate</td>\n",
       "      <td>100</td>\n",
       "    </tr>\n",
       "    <tr>\n",
       "      <th>1336</th>\n",
       "      <td>2020-12-31</td>\n",
       "      <td>junk</td>\n",
       "      <td>chocolate</td>\n",
       "      <td>120</td>\n",
       "    </tr>\n",
       "  </tbody>\n",
       "</table>\n",
       "</div>"
      ],
      "text/plain": [
       "           date category      description  amount\n",
       "1326 2020-12-29     junk            latte     110\n",
       "1331 2020-12-30     junk           coffee     110\n",
       "1332 2020-12-30     junk            bepis      60\n",
       "1334 2020-12-31     junk  white chocolate     100\n",
       "1336 2020-12-31     junk        chocolate     120"
      ]
     },
     "execution_count": 8,
     "metadata": {},
     "output_type": "execute_result"
    }
   ],
   "source": [
    "junk = expenses.loc[expenses['category'] == 'junk']\n",
    "junk.tail()"
   ]
  },
  {
   "cell_type": "markdown",
   "id": "fc3895eb",
   "metadata": {},
   "source": [
    "Get sum for each unique description in the *Junk* category, rename columns for clarity"
   ]
  },
  {
   "cell_type": "code",
   "execution_count": 9,
   "id": "f3dd78f9",
   "metadata": {
    "scrolled": true
   },
   "outputs": [],
   "source": [
    "junked = junk.groupby(['description']).agg({'description': 'count', 'amount': 'sum'})\n",
    "junked.columns = ['item count', 'amount']"
   ]
  },
  {
   "cell_type": "markdown",
   "id": "63dd4c27",
   "metadata": {},
   "source": [
    "Most costly items in the \"Junk\" category"
   ]
  },
  {
   "cell_type": "code",
   "execution_count": 10,
   "id": "f9f0f99c",
   "metadata": {
    "scrolled": true
   },
   "outputs": [
    {
     "data": {
      "text/html": [
       "<div>\n",
       "<style scoped>\n",
       "    .dataframe tbody tr th:only-of-type {\n",
       "        vertical-align: middle;\n",
       "    }\n",
       "\n",
       "    .dataframe tbody tr th {\n",
       "        vertical-align: top;\n",
       "    }\n",
       "\n",
       "    .dataframe thead th {\n",
       "        text-align: right;\n",
       "    }\n",
       "</style>\n",
       "<table border=\"1\" class=\"dataframe\">\n",
       "  <thead>\n",
       "    <tr style=\"text-align: right;\">\n",
       "      <th></th>\n",
       "      <th>item count</th>\n",
       "      <th>amount</th>\n",
       "    </tr>\n",
       "    <tr>\n",
       "      <th>description</th>\n",
       "      <th></th>\n",
       "      <th></th>\n",
       "    </tr>\n",
       "  </thead>\n",
       "  <tbody>\n",
       "    <tr>\n",
       "      <th>latte</th>\n",
       "      <td>30</td>\n",
       "      <td>3300</td>\n",
       "    </tr>\n",
       "    <tr>\n",
       "      <th>dark chocolate</th>\n",
       "      <td>23</td>\n",
       "      <td>2760</td>\n",
       "    </tr>\n",
       "    <tr>\n",
       "      <th>coffee</th>\n",
       "      <td>24</td>\n",
       "      <td>2640</td>\n",
       "    </tr>\n",
       "    <tr>\n",
       "      <th>chips</th>\n",
       "      <td>22</td>\n",
       "      <td>2200</td>\n",
       "    </tr>\n",
       "    <tr>\n",
       "      <th>white chocolate</th>\n",
       "      <td>22</td>\n",
       "      <td>2200</td>\n",
       "    </tr>\n",
       "  </tbody>\n",
       "</table>\n",
       "</div>"
      ],
      "text/plain": [
       "                 item count  amount\n",
       "description                        \n",
       "latte                    30    3300\n",
       "dark chocolate           23    2760\n",
       "coffee                   24    2640\n",
       "chips                    22    2200\n",
       "white chocolate          22    2200"
      ]
     },
     "execution_count": 10,
     "metadata": {},
     "output_type": "execute_result"
    }
   ],
   "source": [
    "junked.sort_values(by='amount', ascending=False).head()"
   ]
  },
  {
   "cell_type": "markdown",
   "id": "7027d545",
   "metadata": {},
   "source": [
    "Sort by item count (frequency of buying)"
   ]
  },
  {
   "cell_type": "code",
   "execution_count": 11,
   "id": "78ad3c8c",
   "metadata": {},
   "outputs": [
    {
     "data": {
      "text/html": [
       "<div>\n",
       "<style scoped>\n",
       "    .dataframe tbody tr th:only-of-type {\n",
       "        vertical-align: middle;\n",
       "    }\n",
       "\n",
       "    .dataframe tbody tr th {\n",
       "        vertical-align: top;\n",
       "    }\n",
       "\n",
       "    .dataframe thead th {\n",
       "        text-align: right;\n",
       "    }\n",
       "</style>\n",
       "<table border=\"1\" class=\"dataframe\">\n",
       "  <thead>\n",
       "    <tr style=\"text-align: right;\">\n",
       "      <th></th>\n",
       "      <th>item count</th>\n",
       "      <th>amount</th>\n",
       "    </tr>\n",
       "    <tr>\n",
       "      <th>description</th>\n",
       "      <th></th>\n",
       "      <th></th>\n",
       "    </tr>\n",
       "  </thead>\n",
       "  <tbody>\n",
       "    <tr>\n",
       "      <th>latte</th>\n",
       "      <td>30</td>\n",
       "      <td>3300</td>\n",
       "    </tr>\n",
       "    <tr>\n",
       "      <th>yet another ice cream</th>\n",
       "      <td>25</td>\n",
       "      <td>1500</td>\n",
       "    </tr>\n",
       "    <tr>\n",
       "      <th>coffee</th>\n",
       "      <td>24</td>\n",
       "      <td>2640</td>\n",
       "    </tr>\n",
       "    <tr>\n",
       "      <th>dark chocolate</th>\n",
       "      <td>23</td>\n",
       "      <td>2760</td>\n",
       "    </tr>\n",
       "    <tr>\n",
       "      <th>chips</th>\n",
       "      <td>22</td>\n",
       "      <td>2200</td>\n",
       "    </tr>\n",
       "  </tbody>\n",
       "</table>\n",
       "</div>"
      ],
      "text/plain": [
       "                       item count  amount\n",
       "description                              \n",
       "latte                          30    3300\n",
       "yet another ice cream          25    1500\n",
       "coffee                         24    2640\n",
       "dark chocolate                 23    2760\n",
       "chips                          22    2200"
      ]
     },
     "execution_count": 11,
     "metadata": {},
     "output_type": "execute_result"
    }
   ],
   "source": [
    "junked.sort_values(by='item count', ascending=False).head()"
   ]
  },
  {
   "cell_type": "markdown",
   "id": "b3f6df64",
   "metadata": {},
   "source": [
    "Sort descriptions alphabetically"
   ]
  },
  {
   "cell_type": "code",
   "execution_count": 12,
   "id": "32076ef9",
   "metadata": {
    "scrolled": false
   },
   "outputs": [
    {
     "data": {
      "text/html": [
       "<div>\n",
       "<style scoped>\n",
       "    .dataframe tbody tr th:only-of-type {\n",
       "        vertical-align: middle;\n",
       "    }\n",
       "\n",
       "    .dataframe tbody tr th {\n",
       "        vertical-align: top;\n",
       "    }\n",
       "\n",
       "    .dataframe thead th {\n",
       "        text-align: right;\n",
       "    }\n",
       "</style>\n",
       "<table border=\"1\" class=\"dataframe\">\n",
       "  <thead>\n",
       "    <tr style=\"text-align: right;\">\n",
       "      <th></th>\n",
       "      <th>item count</th>\n",
       "      <th>amount</th>\n",
       "    </tr>\n",
       "    <tr>\n",
       "      <th>description</th>\n",
       "      <th></th>\n",
       "      <th></th>\n",
       "    </tr>\n",
       "  </thead>\n",
       "  <tbody>\n",
       "    <tr>\n",
       "      <th>americano</th>\n",
       "      <td>22</td>\n",
       "      <td>1980</td>\n",
       "    </tr>\n",
       "    <tr>\n",
       "      <th>another cookies</th>\n",
       "      <td>13</td>\n",
       "      <td>1040</td>\n",
       "    </tr>\n",
       "    <tr>\n",
       "      <th>another ice cream</th>\n",
       "      <td>22</td>\n",
       "      <td>1760</td>\n",
       "    </tr>\n",
       "    <tr>\n",
       "      <th>bepis</th>\n",
       "      <td>13</td>\n",
       "      <td>780</td>\n",
       "    </tr>\n",
       "    <tr>\n",
       "      <th>cake</th>\n",
       "      <td>20</td>\n",
       "      <td>2000</td>\n",
       "    </tr>\n",
       "    <tr>\n",
       "      <th>candy bar</th>\n",
       "      <td>18</td>\n",
       "      <td>900</td>\n",
       "    </tr>\n",
       "    <tr>\n",
       "      <th>chewing gum</th>\n",
       "      <td>16</td>\n",
       "      <td>640</td>\n",
       "    </tr>\n",
       "    <tr>\n",
       "      <th>chips</th>\n",
       "      <td>22</td>\n",
       "      <td>2200</td>\n",
       "    </tr>\n",
       "    <tr>\n",
       "      <th>chocolate</th>\n",
       "      <td>16</td>\n",
       "      <td>1920</td>\n",
       "    </tr>\n",
       "    <tr>\n",
       "      <th>coffee</th>\n",
       "      <td>24</td>\n",
       "      <td>2640</td>\n",
       "    </tr>\n",
       "    <tr>\n",
       "      <th>cookies</th>\n",
       "      <td>16</td>\n",
       "      <td>1280</td>\n",
       "    </tr>\n",
       "    <tr>\n",
       "      <th>dark chocolate</th>\n",
       "      <td>23</td>\n",
       "      <td>2760</td>\n",
       "    </tr>\n",
       "    <tr>\n",
       "      <th>ice cream</th>\n",
       "      <td>9</td>\n",
       "      <td>900</td>\n",
       "    </tr>\n",
       "    <tr>\n",
       "      <th>latte</th>\n",
       "      <td>30</td>\n",
       "      <td>3300</td>\n",
       "    </tr>\n",
       "    <tr>\n",
       "      <th>takeaway coffee</th>\n",
       "      <td>16</td>\n",
       "      <td>1760</td>\n",
       "    </tr>\n",
       "    <tr>\n",
       "      <th>white chocolate</th>\n",
       "      <td>22</td>\n",
       "      <td>2200</td>\n",
       "    </tr>\n",
       "    <tr>\n",
       "      <th>yet another ice cream</th>\n",
       "      <td>25</td>\n",
       "      <td>1500</td>\n",
       "    </tr>\n",
       "  </tbody>\n",
       "</table>\n",
       "</div>"
      ],
      "text/plain": [
       "                       item count  amount\n",
       "description                              \n",
       "americano                      22    1980\n",
       "another cookies                13    1040\n",
       "another ice cream              22    1760\n",
       "bepis                          13     780\n",
       "cake                           20    2000\n",
       "candy bar                      18     900\n",
       "chewing gum                    16     640\n",
       "chips                          22    2200\n",
       "chocolate                      16    1920\n",
       "coffee                         24    2640\n",
       "cookies                        16    1280\n",
       "dark chocolate                 23    2760\n",
       "ice cream                       9     900\n",
       "latte                          30    3300\n",
       "takeaway coffee                16    1760\n",
       "white chocolate                22    2200\n",
       "yet another ice cream          25    1500"
      ]
     },
     "execution_count": 12,
     "metadata": {},
     "output_type": "execute_result"
    }
   ],
   "source": [
    "junked.sort_values(by='description')"
   ]
  }
 ],
 "metadata": {
  "kernelspec": {
   "display_name": "Python 3 (ipykernel)",
   "language": "python",
   "name": "python3"
  },
  "language_info": {
   "codemirror_mode": {
    "name": "ipython",
    "version": 3
   },
   "file_extension": ".py",
   "mimetype": "text/x-python",
   "name": "python",
   "nbconvert_exporter": "python",
   "pygments_lexer": "ipython3",
   "version": "3.9.6"
  }
 },
 "nbformat": 4,
 "nbformat_minor": 5
}
